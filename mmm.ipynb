{
 "cells": [
  {
   "cell_type": "markdown",
   "metadata": {},
   "source": [
    "# Config"
   ]
  },
  {
   "cell_type": "code",
   "execution_count": 94,
   "metadata": {},
   "outputs": [],
   "source": [
    "# Data analysis and wrangling\n",
    "import numpy as np\n",
    "import pandas as pd\n",
    "\n",
    "# Visualization\n",
    "import seaborn as sns\n",
    "import matplotlib.pyplot as plt\n",
    "%matplotlib inline\n",
    "\n",
    "# Machine learning\n",
    "from sklearn.model_selection import train_test_split\n",
    "from sklearn.preprocessing import MinMaxScaler\n",
    "from sklearn.linear_model import Ridge"
   ]
  },
  {
   "cell_type": "markdown",
   "metadata": {},
   "source": [
    "# Data"
   ]
  },
  {
   "cell_type": "code",
   "execution_count": 95,
   "metadata": {},
   "outputs": [],
   "source": [
    "# mmm_input.csv를 읽어와서 학습에 필요없는 열인 H2/CH4를 제거\n",
    "df = pd.read_csv(\"mmm_input.csv\")\n",
    "# df.style.hide_index()  # 이거 pandas version 1.4 이상부턴 deprecated돼서 고쳐야함 일단 keep\n",
    "df.drop([\"H2/CH4\"], axis=1, inplace=True)\n",
    "\n",
    "# MMM column을 분리해서 output data를 생성\n",
    "x_data = df.loc[:, [\"Inorganic\", \"Polymer\"]]\n",
    "y_data = df.loc[:, [\"MMM\"]]"
   ]
  },
  {
   "cell_type": "code",
   "execution_count": 96,
   "metadata": {},
   "outputs": [
    {
     "data": {
      "text/html": [
       "<div>\n",
       "<style scoped>\n",
       "    .dataframe tbody tr th:only-of-type {\n",
       "        vertical-align: middle;\n",
       "    }\n",
       "\n",
       "    .dataframe tbody tr th {\n",
       "        vertical-align: top;\n",
       "    }\n",
       "\n",
       "    .dataframe thead th {\n",
       "        text-align: right;\n",
       "    }\n",
       "</style>\n",
       "<table border=\"1\" class=\"dataframe\">\n",
       "  <thead>\n",
       "    <tr style=\"text-align: right;\">\n",
       "      <th></th>\n",
       "      <th>Inorganic</th>\n",
       "      <th>Polymer</th>\n",
       "    </tr>\n",
       "  </thead>\n",
       "  <tbody>\n",
       "    <tr>\n",
       "      <th>0</th>\n",
       "      <td>280.0</td>\n",
       "      <td>154.00</td>\n",
       "    </tr>\n",
       "    <tr>\n",
       "      <th>1</th>\n",
       "      <td>280.0</td>\n",
       "      <td>201.00</td>\n",
       "    </tr>\n",
       "    <tr>\n",
       "      <th>2</th>\n",
       "      <td>280.0</td>\n",
       "      <td>0.13</td>\n",
       "    </tr>\n",
       "    <tr>\n",
       "      <th>3</th>\n",
       "      <td>280.0</td>\n",
       "      <td>20.00</td>\n",
       "    </tr>\n",
       "    <tr>\n",
       "      <th>4</th>\n",
       "      <td>280.0</td>\n",
       "      <td>5.55</td>\n",
       "    </tr>\n",
       "  </tbody>\n",
       "</table>\n",
       "</div>"
      ],
      "text/plain": [
       "   Inorganic  Polymer\n",
       "0      280.0   154.00\n",
       "1      280.0   201.00\n",
       "2      280.0     0.13\n",
       "3      280.0    20.00\n",
       "4      280.0     5.55"
      ]
     },
     "execution_count": 96,
     "metadata": {},
     "output_type": "execute_result"
    }
   ],
   "source": [
    "x_data.head()"
   ]
  },
  {
   "cell_type": "code",
   "execution_count": 97,
   "metadata": {},
   "outputs": [
    {
     "data": {
      "text/html": [
       "<div>\n",
       "<style scoped>\n",
       "    .dataframe tbody tr th:only-of-type {\n",
       "        vertical-align: middle;\n",
       "    }\n",
       "\n",
       "    .dataframe tbody tr th {\n",
       "        vertical-align: top;\n",
       "    }\n",
       "\n",
       "    .dataframe thead th {\n",
       "        text-align: right;\n",
       "    }\n",
       "</style>\n",
       "<table border=\"1\" class=\"dataframe\">\n",
       "  <thead>\n",
       "    <tr style=\"text-align: right;\">\n",
       "      <th></th>\n",
       "      <th>MMM</th>\n",
       "    </tr>\n",
       "  </thead>\n",
       "  <tbody>\n",
       "    <tr>\n",
       "      <th>0</th>\n",
       "      <td>227.333333</td>\n",
       "    </tr>\n",
       "    <tr>\n",
       "      <th>1</th>\n",
       "      <td>269.345894</td>\n",
       "    </tr>\n",
       "    <tr>\n",
       "      <th>2</th>\n",
       "      <td>0.246885</td>\n",
       "    </tr>\n",
       "    <tr>\n",
       "      <th>3</th>\n",
       "      <td>35.625000</td>\n",
       "    </tr>\n",
       "    <tr>\n",
       "      <th>4</th>\n",
       "      <td>10.343953</td>\n",
       "    </tr>\n",
       "  </tbody>\n",
       "</table>\n",
       "</div>"
      ],
      "text/plain": [
       "          MMM\n",
       "0  227.333333\n",
       "1  269.345894\n",
       "2    0.246885\n",
       "3   35.625000\n",
       "4   10.343953"
      ]
     },
     "execution_count": 97,
     "metadata": {},
     "output_type": "execute_result"
    }
   ],
   "source": [
    "y_data.head()"
   ]
  },
  {
   "cell_type": "code",
   "execution_count": 98,
   "metadata": {},
   "outputs": [
    {
     "name": "stdout",
     "output_type": "stream",
     "text": [
      "<class 'pandas.core.frame.DataFrame'>\n",
      "RangeIndex: 180 entries, 0 to 179\n",
      "Data columns (total 2 columns):\n",
      " #   Column     Non-Null Count  Dtype  \n",
      "---  ------     --------------  -----  \n",
      " 0   Inorganic  180 non-null    float64\n",
      " 1   Polymer    180 non-null    float64\n",
      "dtypes: float64(2)\n",
      "memory usage: 2.9 KB\n"
     ]
    }
   ],
   "source": [
    "x_data.info()"
   ]
  },
  {
   "cell_type": "markdown",
   "metadata": {},
   "source": [
    "수집한 180개의 데이터 모두 non-null임을 알 수 있으므로 결측치 처리는 해줄 필요가 없음을 알 수 있다."
   ]
  },
  {
   "cell_type": "code",
   "execution_count": 99,
   "metadata": {},
   "outputs": [
    {
     "data": {
      "text/html": [
       "<div>\n",
       "<style scoped>\n",
       "    .dataframe tbody tr th:only-of-type {\n",
       "        vertical-align: middle;\n",
       "    }\n",
       "\n",
       "    .dataframe tbody tr th {\n",
       "        vertical-align: top;\n",
       "    }\n",
       "\n",
       "    .dataframe thead th {\n",
       "        text-align: right;\n",
       "    }\n",
       "</style>\n",
       "<table border=\"1\" class=\"dataframe\">\n",
       "  <thead>\n",
       "    <tr style=\"text-align: right;\">\n",
       "      <th></th>\n",
       "      <th>Inorganic</th>\n",
       "      <th>Polymer</th>\n",
       "    </tr>\n",
       "  </thead>\n",
       "  <tbody>\n",
       "    <tr>\n",
       "      <th>count</th>\n",
       "      <td>180.000000</td>\n",
       "      <td>180.000000</td>\n",
       "    </tr>\n",
       "    <tr>\n",
       "      <th>mean</th>\n",
       "      <td>236.512667</td>\n",
       "      <td>4324.729333</td>\n",
       "    </tr>\n",
       "    <tr>\n",
       "      <th>std</th>\n",
       "      <td>664.368189</td>\n",
       "      <td>8080.120495</td>\n",
       "    </tr>\n",
       "    <tr>\n",
       "      <th>min</th>\n",
       "      <td>0.482000</td>\n",
       "      <td>0.130000</td>\n",
       "    </tr>\n",
       "    <tr>\n",
       "      <th>25%</th>\n",
       "      <td>5.895000</td>\n",
       "      <td>20.000000</td>\n",
       "    </tr>\n",
       "    <tr>\n",
       "      <th>50%</th>\n",
       "      <td>13.500000</td>\n",
       "      <td>154.000000</td>\n",
       "    </tr>\n",
       "    <tr>\n",
       "      <th>75%</th>\n",
       "      <td>29.050000</td>\n",
       "      <td>3300.000000</td>\n",
       "    </tr>\n",
       "    <tr>\n",
       "      <th>max</th>\n",
       "      <td>2420.000000</td>\n",
       "      <td>23200.000000</td>\n",
       "    </tr>\n",
       "  </tbody>\n",
       "</table>\n",
       "</div>"
      ],
      "text/plain": [
       "         Inorganic       Polymer\n",
       "count   180.000000    180.000000\n",
       "mean    236.512667   4324.729333\n",
       "std     664.368189   8080.120495\n",
       "min       0.482000      0.130000\n",
       "25%       5.895000     20.000000\n",
       "50%      13.500000    154.000000\n",
       "75%      29.050000   3300.000000\n",
       "max    2420.000000  23200.000000"
      ]
     },
     "execution_count": 99,
     "metadata": {},
     "output_type": "execute_result"
    }
   ],
   "source": [
    "x_data.describe()"
   ]
  },
  {
   "cell_type": "markdown",
   "metadata": {},
   "source": [
    "~~pd.describe()를 통해 각 feature의 대략적인 distribution과 interquartile range를 알 수 있다. 위에서 보다시피 inorganic과 Polymer의 data scale이 다르므로 Min-Max Normalization을 통해 [0, 1]로 normalize한다.~~\n",
    "\n",
    "~~Min-Max Normalization은 회귀 모델에 유용하지만 outlier에 매우 민감하므로 boxplot을 그려 outlier 여부를 확인하고 이를 처리하는 작업이 필요하다.~~\n",
    "\n",
    "현재 Normalization 안한 상태"
   ]
  },
  {
   "cell_type": "code",
   "execution_count": 100,
   "metadata": {},
   "outputs": [
    {
     "data": {
      "text/plain": [
       "<AxesSubplot:ylabel='Inorganic'>"
      ]
     },
     "execution_count": 100,
     "metadata": {},
     "output_type": "execute_result"
    },
    {
     "data": {
      "image/png": "[encoded data removed]",
      "text/plain": [
       "<Figure size 360x720 with 1 Axes>"
      ]
     },
     "metadata": {},
     "output_type": "display_data"
    }
   ],
   "source": [
    "sns.set_style(\"whitegrid\")\n",
    "fig = plt.figure(figsize=(5, 10))\n",
    "sns.boxplot(y=x_data[\"Inorganic\"])"
   ]
  },
  {
   "cell_type": "code",
   "execution_count": 101,
   "metadata": {},
   "outputs": [
    {
     "data": {
      "text/plain": [
       "<AxesSubplot:ylabel='Polymer'>"
      ]
     },
     "execution_count": 101,
     "metadata": {},
     "output_type": "execute_result"
    },
    {
     "data": {
      "image/png": "[encoded data removed]",
      "text/plain": [
       "<Figure size 360x720 with 1 Axes>"
      ]
     },
     "metadata": {},
     "output_type": "display_data"
    }
   ],
   "source": [
    "fig = plt.figure(figsize=(5, 10))\n",
    "sns.boxplot(y=x_data[\"Polymer\"])"
   ]
  },
  {
   "cell_type": "markdown",
   "metadata": {},
   "source": [
    "위 그림에서 점으로 표현된 것이 outlier이다. outlier를 처리하는 방법으로는 아예 제거하는 방법 또는 평균이나 최빈값으로 대체하는 방법 등이 있다.\n",
    "\n",
    "input data를 살펴보면 outlier의 개수가 feature마다 다르고 애초에 train size가 1000도 넘지 못할 정도로 매우 작다. 그리고 input_data에서 inorganic과 Polymer 값이 변화에 따른 MMM 값을 관찰한 결과 linear relationship을 가지는 간단한 모델이 이를 설명할 수 있음을 직관적으로 알 수 있다. "
   ]
  },
  {
   "cell_type": "code",
   "execution_count": 102,
   "metadata": {},
   "outputs": [
    {
     "name": "stdout",
     "output_type": "stream",
     "text": [
      "23.155\n",
      "    Inorganic   Polymer\n",
      "0       280.0    154.00\n",
      "1       280.0    201.00\n",
      "2       280.0      0.13\n",
      "3       280.0     20.00\n",
      "4       280.0      5.55\n",
      "5       280.0     13.06\n",
      "6       280.0     76.20\n",
      "7       280.0     52.00\n",
      "8       280.0    106.00\n",
      "9       280.0    156.00\n",
      "10      280.0    187.00\n",
      "11      280.0   3300.00\n",
      "12      280.0  17000.00\n",
      "13      280.0  20400.00\n",
      "14      280.0  23200.00\n",
      "60     2420.0    154.00\n",
      "61     2420.0    201.00\n",
      "62     2420.0      0.13\n",
      "63     2420.0     20.00\n",
      "64     2420.0      5.55\n",
      "65     2420.0     13.06\n",
      "66     2420.0     76.20\n",
      "67     2420.0     52.00\n",
      "68     2420.0    106.00\n",
      "69     2420.0    156.00\n",
      "70     2420.0    187.00\n",
      "71     2420.0   3300.00\n",
      "72     2420.0  17000.00\n",
      "73     2420.0  20400.00\n",
      "74     2420.0  23200.00\n",
      "     Inorganic   Polymer\n",
      "15        11.0    154.00\n",
      "16        11.0    201.00\n",
      "17        11.0      0.13\n",
      "18        11.0     20.00\n",
      "19        11.0      5.55\n",
      "..         ...       ...\n",
      "175       16.0    187.00\n",
      "176       16.0   3300.00\n",
      "177       16.0  17000.00\n",
      "178       16.0  20400.00\n",
      "179       16.0  23200.00\n",
      "\n",
      "[150 rows x 2 columns]\n"
     ]
    }
   ],
   "source": [
    "q1 = x_data[\"Inorganic\"].quantile(0.25)\n",
    "q3 = x_data[\"Inorganic\"].quantile(0.75)\n",
    "iqr = q3 - q1\n",
    "print(iqr)\n",
    "\n",
    "condition = x_data[\"Inorganic\"] > q3 + 1.5 * iqr\n",
    "print(x_data[condition])\n",
    "\n",
    "target = x_data[condition].index\n",
    "x_data.drop(target, inplace=True)\n",
    "y_data.drop(target, inplace=True)\n",
    "print(x_data)"
   ]
  },
  {
   "cell_type": "code",
   "execution_count": 103,
   "metadata": {},
   "outputs": [
    {
     "name": "stdout",
     "output_type": "stream",
     "text": [
      "3280.0\n",
      "     Inorganic  Polymer\n",
      "27      11.000  17000.0\n",
      "28      11.000  20400.0\n",
      "29      11.000  23200.0\n",
      "42       9.000  17000.0\n",
      "43       9.000  20400.0\n",
      "44       9.000  23200.0\n",
      "57      19.300  17000.0\n",
      "58      19.300  20400.0\n",
      "59      19.300  23200.0\n",
      "87       5.460  17000.0\n",
      "88       5.460  20400.0\n",
      "89       5.460  23200.0\n",
      "102      6.040  17000.0\n",
      "103      6.040  20400.0\n",
      "104      6.040  23200.0\n",
      "117     23.000  17000.0\n",
      "118     23.000  20400.0\n",
      "119     23.000  23200.0\n",
      "132     47.200  17000.0\n",
      "133     47.200  20400.0\n",
      "134     47.200  23200.0\n",
      "147      0.670  17000.0\n",
      "148      0.670  20400.0\n",
      "149      0.670  23200.0\n",
      "162      0.482  17000.0\n",
      "163      0.482  20400.0\n",
      "164      0.482  23200.0\n",
      "177     16.000  17000.0\n",
      "178     16.000  20400.0\n",
      "179     16.000  23200.0\n",
      "     Inorganic  Polymer\n",
      "15        11.0   154.00\n",
      "16        11.0   201.00\n",
      "17        11.0     0.13\n",
      "18        11.0    20.00\n",
      "19        11.0     5.55\n",
      "..         ...      ...\n",
      "172       16.0    52.00\n",
      "173       16.0   106.00\n",
      "174       16.0   156.00\n",
      "175       16.0   187.00\n",
      "176       16.0  3300.00\n",
      "\n",
      "[120 rows x 2 columns]\n"
     ]
    }
   ],
   "source": [
    "q1 = x_data[\"Polymer\"].quantile(0.25)\n",
    "q3 = x_data[\"Polymer\"].quantile(0.75)\n",
    "iqr = q3 - q1\n",
    "print(iqr)\n",
    "\n",
    "condition = x_data[\"Polymer\"] > q3 + 1.5 * iqr\n",
    "print(x_data[condition])\n",
    "\n",
    "target = x_data[condition].index\n",
    "x_data.drop(target, inplace=True)\n",
    "y_data.drop(target, inplace=True)\n",
    "print(x_data)"
   ]
  },
  {
   "cell_type": "markdown",
   "metadata": {},
   "source": [
    "# Model"
   ]
  },
  {
   "cell_type": "markdown",
   "metadata": {},
   "source": [
    "우리가 하려는 일은 categorical하게 분류된 것이 아닌 어떤 특정한 float 값을 구하는 것이 목적이기 때문에 이 문제는 Regression으로 정의할 수 있다.\n",
    "\n",
    "scikit learn에서 제공하는 Choosing the right estimator 그림(https://scikit-learn.org/stable/tutorial/machine_learning_map/index.html)에 따르면 우리가 사용할 수 있는 모델은 RidgeRegression과 SVR(kernal=\"rbf\")가 있는데 위에서 언급했다시피 모델이 간단할 것으로 예측되기 때문에 우선은 RidgeRegression을 baseline model로 채택하였다.\n",
    "\n",
    "~~input data로 사용한 두 feature의 중요도가 비슷하다는 것이 RidgeRegression일 거라는 주장을 뒷받침만할 또다른 근거가 될 수 있다(확인 필요)~~"
   ]
  },
  {
   "cell_type": "code",
   "execution_count": 104,
   "metadata": {},
   "outputs": [
    {
     "name": "stdout",
     "output_type": "stream",
     "text": [
      "     Inorganic  Polymer\n",
      "95       6.040    13.06\n",
      "49      19.300     5.55\n",
      "77       5.460     0.13\n",
      "37       9.000    52.00\n",
      "159      0.482   156.00\n",
      "..         ...      ...\n",
      "156      0.482    76.20\n",
      "152      0.482     0.13\n",
      "143      0.670   106.00\n",
      "111     23.000    76.20\n",
      "166     16.000   201.00\n",
      "\n",
      "[96 rows x 2 columns]\n",
      "     Inorganic  Polymer\n",
      "19      11.000     5.55\n",
      "174     16.000   156.00\n",
      "169     16.000     5.55\n",
      "158      0.482   106.00\n",
      "52      19.300    52.00\n",
      "45      19.300   154.00\n",
      "167     16.000     0.13\n",
      "107     23.000     0.13\n",
      "34       9.000     5.55\n",
      "56      19.300  3300.00\n",
      "54      19.300   156.00\n",
      "23      11.000   106.00\n",
      "20      11.000    13.06\n",
      "15      11.000   154.00\n",
      "31       9.000   201.00\n",
      "125     47.200    13.06\n",
      "138      0.670    20.00\n",
      "93       6.040    20.00\n",
      "145      0.670   187.00\n",
      "120     47.200   154.00\n",
      "50      19.300    13.06\n",
      "136      0.670   201.00\n",
      "110     23.000    13.06\n",
      "98       6.040   106.00\n",
      "            MMM\n",
      "95    14.737170\n",
      "49     8.619844\n",
      "77     0.254091\n",
      "37    53.334513\n",
      "159  164.052660\n",
      "..          ...\n",
      "156   80.262252\n",
      "152    0.225170\n",
      "143  111.650642\n",
      "111   90.501619\n",
      "166  198.259091\n",
      "\n",
      "[96 rows x 1 columns]\n",
      "             MMM\n",
      "19      8.728066\n",
      "174   171.790244\n",
      "169     8.826753\n",
      "158   100.928431\n",
      "52     60.139497\n",
      "45    171.235014\n",
      "167     0.257921\n",
      "107     0.271474\n",
      "34      8.436828\n",
      "56   3144.140770\n",
      "54    156.833444\n",
      "23    105.667265\n",
      "20     16.930151\n",
      "15    151.344828\n",
      "31    205.401460\n",
      "125    21.467420\n",
      "138    21.345955\n",
      "93     21.492615\n",
      "145   177.967681\n",
      "120   183.187162\n",
      "50     19.539968\n",
      "136   201.334443\n",
      "110    18.216467\n",
      "98    108.936342\n"
     ]
    }
   ],
   "source": [
    "# train set과 test set의 비율을 8:2로 나눠줌\n",
    "# random_state를 고정시켜두어 반복해서 실험했을 때도 같은 결과가 나오게끔 해줌\n",
    "x_train, x_test, y_train, y_test = train_test_split(x_data, y_data, test_size=0.2, random_state=123)\n",
    "\n",
    "print(x_train)\n",
    "print(x_test)\n",
    "print(y_train)\n",
    "print(y_test)"
   ]
  },
  {
   "cell_type": "code",
   "execution_count": 105,
   "metadata": {},
   "outputs": [],
   "source": [
    "# Ridge regression\n",
    "model = Ridge()"
   ]
  },
  {
   "cell_type": "markdown",
   "metadata": {},
   "source": [
    "# Train"
   ]
  },
  {
   "cell_type": "code",
   "execution_count": 106,
   "metadata": {},
   "outputs": [
    {
     "data": {
      "text/plain": [
       "Ridge()"
      ]
     },
     "execution_count": 106,
     "metadata": {},
     "output_type": "execute_result"
    }
   ],
   "source": [
    "model.fit(x_train, y_train)"
   ]
  },
  {
   "cell_type": "markdown",
   "metadata": {},
   "source": [
    "# Evaluation"
   ]
  },
  {
   "cell_type": "code",
   "execution_count": 107,
   "metadata": {},
   "outputs": [
    {
     "name": "stdout",
     "output_type": "stream",
     "text": [
      "Train score: 0.9987207087613424\n",
      "Test score: 0.9946161400384906\n"
     ]
    }
   ],
   "source": [
    "train_score = model.score(x_train, y_train)\n",
    "test_score = model.score(x_test, y_test)\n",
    "\n",
    "print(f\"Train score: {train_score}\")\n",
    "print(f\"Test score: {test_score}\")"
   ]
  },
  {
   "cell_type": "markdown",
   "metadata": {},
   "source": [
    "예상대로 정확도가 매우 높게 나옴을 알 수 있다."
   ]
  },
  {
   "cell_type": "markdown",
   "metadata": {},
   "source": [
    "# Inference"
   ]
  },
  {
   "cell_type": "code",
   "execution_count": 108,
   "metadata": {},
   "outputs": [
    {
     "name": "stdout",
     "output_type": "stream",
     "text": [
      "    Inorganic  Polymer  predicted MMM\n",
      "0      11.000     5.55       7.523100\n",
      "1      16.000   156.00     162.605095\n",
      "2      16.000     5.55       9.470842\n",
      "3       0.482   106.00     105.668007\n",
      "4      19.300    52.00      58.035090\n",
      "5      19.300   154.00     161.854922\n",
      "6      16.000     0.13       3.954141\n",
      "7      23.000     0.13       6.680981\n",
      "8       9.000     5.55       6.744003\n",
      "9      19.300  3300.00    3363.984257\n",
      "10     19.300   156.00     163.890605\n",
      "11     11.000   106.00     109.765278\n",
      "12     11.000    13.06      15.167089\n",
      "13     11.000   154.00     158.621669\n",
      "14      9.000   201.00     205.681123\n",
      "15     47.200    13.06      29.268745\n",
      "16      0.670    20.00      18.206873\n",
      "17      6.040    20.00      20.298749\n",
      "18      0.670   187.00     188.186403\n",
      "19     47.200   154.00     172.723325\n",
      "20     19.300    13.06      18.400342\n",
      "21      0.670   201.00     202.436184\n",
      "22     23.000    13.06      19.841672\n",
      "23      6.040   106.00     107.833117\n"
     ]
    }
   ],
   "source": [
    "# 우리가 위에서 모델을 평가할 때 사용한 test data를 이용해서 mmm 값을 구한 예시\n",
    "# 현재 mmm의 예측 결과로 음수가 나오는 issue가 발생함 input_data로 추론해보건대 음수가 나오면 안될것 같은데 이거 해결 필요\n",
    "\n",
    "y_pred = model.predict(x_test)\n",
    "mmm_pred = np.hstack([x_test, y_pred])  # test data와 우리가 학습한 모델을 통해 예측된 mmm 값을 가로로 이어붙임\n",
    "mmm_pred = pd.DataFrame(mmm_pred, columns=[\"Inorganic\", \"Polymer\", \"predicted MMM\"])\n",
    "print(mmm_pred)"
   ]
  },
  {
   "cell_type": "code",
   "execution_count": 110,
   "metadata": {},
   "outputs": [
    {
     "name": "stdout",
     "output_type": "stream",
     "text": [
      "1.981981981981982\n",
      "0.10256410256410256\n",
      "2.882882882882883\n",
      "0.004547169811320755\n",
      "0.37115384615384617\n",
      "0.12532467532467534\n",
      "123.07692307692307\n",
      "176.9230769230769\n",
      "1.6216216216216217\n",
      "0.0058484848484848485\n",
      "0.12371794871794872\n",
      "0.10377358490566038\n",
      "0.8422664624808576\n",
      "0.07142857142857142\n",
      "0.04477611940298507\n",
      "3.614088820826953\n",
      "0.0335\n",
      "0.302\n",
      "0.0035828877005347594\n",
      "0.3064935064935065\n",
      "1.4777947932618682\n",
      "0.0033333333333333335\n",
      "1.7611026033690658\n",
      "0.056981132075471695\n"
     ]
    }
   ],
   "source": [
    "def get_alpha(inorganic, polymer):\n",
    "    print(inorganic / polymer)\n",
    "\n",
    "mmm_pred_np = mmm_pred.to_numpy()[:, :2]\n",
    "\n",
    "for row in mmm_pred_np:\n",
    "    get_alpha(row[0], row[1])"
   ]
  }
 ],
 "metadata": {
  "interpreter": {
   "hash": "4a5758415c2b915ee29d118f12e81cff1d13c4cc1b716615f5fd7f6382250503"
  },
  "kernelspec": {
   "display_name": "Python 3.9.12 64-bit ('anaconda3')",
   "language": "python",
   "name": "python3"
  },
  "language_info": {
   "codemirror_mode": {
    "name": "ipython",
    "version": 3
   },
   "file_extension": ".py",
   "mimetype": "text/x-python",
   "name": "python",
   "nbconvert_exporter": "python",
   "pygments_lexer": "ipython3",
   "version": "3.9.12"
  },
  "orig_nbformat": 4
 },
 "nbformat": 4,
 "nbformat_minor": 2
}
